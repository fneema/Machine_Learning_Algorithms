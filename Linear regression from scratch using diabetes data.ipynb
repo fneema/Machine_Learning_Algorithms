{
 "cells": [
  {
   "cell_type": "code",
   "execution_count": 111,
   "metadata": {},
   "outputs": [],
   "source": [
    "#importing libraries\n",
    "import numpy as np\n",
    "import pandas as pd\n",
    "import matplotlib.pyplot as plt\n",
    "from sklearn.model_selection import train_test_split\n",
    "from sklearn.metrics import mean_squared_error\n"
   ]
  },
  {
   "cell_type": "code",
   "execution_count": 112,
   "metadata": {
    "scrolled": true
   },
   "outputs": [
    {
     "name": "stdout",
     "output_type": "stream",
     "text": [
      "shape of X:  (768, 8)\n",
      "shape of y:  (768, 1)\n"
     ]
    }
   ],
   "source": [
    "#Loading data\n",
    "data = pd.read_csv(\"/home/aims/Documents/Kaggle Data/diabetes.csv\")\n",
    "\n",
    "#Input values of features\n",
    "X = data.drop('BMI',1).values\n",
    "print('shape of X: ',X.shape)\n",
    "\n",
    "#Output values of features\n",
    "y = data['BMI'].values.reshape(-1,1)\n",
    "print('shape of y: ',y.shape)\n",
    "\n",
    "#splitting data into train and test set\n",
    "x_train,x_test,y_train,y_test = train_test_split(X, y, test_size=0.2, random_state=0)\n"
   ]
  },
  {
   "cell_type": "code",
   "execution_count": 113,
   "metadata": {},
   "outputs": [],
   "source": [
    "#Define cost fuction\n",
    "#X-input values matrix, y-output value vector, parameter vector\n",
    "\n",
    "def cost_function(X,y,params):\n",
    "    #number of samples\n",
    "    no_samples = len(y)\n",
    "    \n",
    "    #Error- difference between predicted value of y and actual/observed value of value\n",
    "    error = (X@params) - y\n",
    "    \n",
    "    #formula for obtaining the cost\n",
    "    return (1/(2*no_samples))*np.sum(error**2)\n",
    "    \n",
    "    "
   ]
  },
  {
   "cell_type": "code",
   "execution_count": 114,
   "metadata": {},
   "outputs": [],
   "source": [
    "#Define gradient descent\n",
    "def gradient_descent(X, y, params, learning_rate, n_iters):\n",
    "    no_samples = len(y)\n",
    "    \n",
    "    #Track cost in each iteration\n",
    "    cost_track = np.zeros((n_iters,1))\n",
    "    \n",
    "    for i in range(n_iters):\n",
    "        #updating parameters\n",
    "        params = params - (learning_rate/no_samples)* X.T @ (X@params-y)\n",
    "        cost_track[i] = cost_function(X,y,params)\n",
    "    return (cost_track,params)"
   ]
  },
  {
   "cell_type": "code",
   "execution_count": 115,
   "metadata": {},
   "outputs": [],
   "source": [
    "#Normalizing our data/ feature scaling \n",
    "mu = np.mean(x_train,0)\n",
    "sigma = np.std(x_train,0)\n",
    "\n",
    "x_train = (x_train-mu)/sigma\n",
    "\n",
    "#Introducing bias in our input matrix\n",
    "x_train = np.hstack((np.ones((x_train.shape[0],1)),x_train))\n",
    "\n",
    "#Initialising parameters to zeros\n",
    "params = np.zeros((x_train.shape[1],1))"
   ]
  },
  {
   "cell_type": "code",
   "execution_count": 116,
   "metadata": {},
   "outputs": [
    {
     "name": "stdout",
     "output_type": "stream",
     "text": [
      "Initial cost is :  549.9019136807818\n",
      "Optimal parameters are:  [[32.20667752]\n",
      " [-0.20253948]\n",
      " [ 0.88835153]\n",
      " [ 1.41410899]\n",
      " [ 2.71927362]\n",
      " [-0.34896191]\n",
      " [ 0.20942998]\n",
      " [-0.42277112]\n",
      " [ 1.82124106]]\n",
      "Final cost is:  [22.57762383]\n"
     ]
    },
    {
     "data": {
      "image/png": "[encoded data removed]",
      "text/plain": [
       "<Figure size 432x288 with 1 Axes>"
      ]
     },
     "metadata": {
      "needs_background": "light"
     },
     "output_type": "display_data"
    }
   ],
   "source": [
    "#Training our model\n",
    "n_iters  = 5000\n",
    "\n",
    "learning_rate = 0.01\n",
    "\n",
    "initial_cost = cost_function(x_train,y_train,params)\n",
    "\n",
    "print('Initial cost is : ', initial_cost)\n",
    "\n",
    "(cost_track, optimal_parameters) = gradient_descent(x_train,y_train,params,learning_rate,n_iters)\n",
    "\n",
    "print('Optimal parameters are: ', optimal_parameters)\n",
    "\n",
    "print('Final cost is: ', cost_track[-1])\n",
    "\n",
    "#Plotting a graph of convergence of cost fuction\n",
    "\n",
    "plt.plot(range(len(cost_track)), cost_track, 'b')\n",
    "\n",
    "plt.title(\"Convergence Graph of Cost Function\")\n",
    "plt.xlabel(\"Number of Iterations\")\n",
    "plt.ylabel(\"Cost\")\n",
    "plt.show()"
   ]
  },
  {
   "cell_type": "code",
   "execution_count": 117,
   "metadata": {},
   "outputs": [],
   "source": [
    "#Normalising our test set\n",
    "x_test = (x_test-mu)/sigma\n",
    "\n",
    "#Introducing bias to test set\n",
    "x_test = np.hstack((np.ones((x_test.shape[0],1)),x_test))\n",
    "\n",
    "#predicting the y output\n",
    "y_pred = x_test@optimal_parameters\n"
   ]
  },
  {
   "cell_type": "code",
   "execution_count": 118,
   "metadata": {},
   "outputs": [
    {
     "data": {
      "text/plain": [
       "6.861001413749793"
      ]
     },
     "execution_count": 118,
     "metadata": {},
     "output_type": "execute_result"
    }
   ],
   "source": [
    "#Evaluating our model using RMSE\n",
    "rms = np.sqrt(mean_squared_error(y_pred, y_test))\n",
    "rms"
   ]
  }
 ],
 "metadata": {
  "kernelspec": {
   "display_name": "Python 3",
   "language": "python",
   "name": "python3"
  },
  "language_info": {
   "codemirror_mode": {
    "name": "ipython",
    "version": 3
   },
   "file_extension": ".py",
   "mimetype": "text/x-python",
   "name": "python",
   "nbconvert_exporter": "python",
   "pygments_lexer": "ipython3",
   "version": "3.7.3"
  }
 },
 "nbformat": 4,
 "nbformat_minor": 2
}
